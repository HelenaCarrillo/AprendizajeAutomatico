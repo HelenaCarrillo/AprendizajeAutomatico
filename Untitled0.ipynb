{
  "nbformat": 4,
  "nbformat_minor": 0,
  "metadata": {
    "colab": {
      "provenance": [],
      "authorship_tag": "ABX9TyOt6+bd/8Uqeizs1lWXSIa2",
      "include_colab_link": true
    },
    "kernelspec": {
      "name": "python3",
      "display_name": "Python 3"
    },
    "language_info": {
      "name": "python"
    }
  },
  "cells": [
    {
      "cell_type": "markdown",
      "metadata": {
        "id": "view-in-github",
        "colab_type": "text"
      },
      "source": [
        "<a href=\"https://colab.research.google.com/github/HelenaCarrillo/AprendizajeAutomatico/blob/main/Untitled0.ipynb\" target=\"_parent\"><img src=\"https://colab.research.google.com/assets/colab-badge.svg\" alt=\"Open In Colab\"/></a>"
      ]
    },
    {
      "cell_type": "markdown",
      "source": [
        "**TAREA 1**"
      ],
      "metadata": {
        "id": "KzCNY5xKIKqg"
      }
    },
    {
      "cell_type": "code",
      "source": [],
      "metadata": {
        "id": "NZ9LpV9zIQal"
      },
      "execution_count": null,
      "outputs": []
    }
  ]
}