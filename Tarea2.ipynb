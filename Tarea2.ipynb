{
 "cells": [
  {
   "cell_type": "markdown",
   "metadata": {},
   "source": [
    "# TAREA 2\n",
    "\n",
    "### Limpieza de datos"
   ]
  },
  {
   "cell_type": "markdown",
   "metadata": {},
   "source": [
    "Como se denotó en la tarea anterior los datos a utilizar son los correspondientes al Inventario Nacional de Emisiones de Gases y Compuestos de Efecto Invernadero del INECC que se puede encontrar en la siguiente liga: https://datos.gob.mx/busca/dataset/inventario-nacional-de-emisiones-de-gases-y-compuestos-de-efecto-invernadero-inegycei.\n",
    "\n",
    "De la liga se usan un total de 2 archivos:\n",
    "* Inventario Nacional de Emisiones de Gases y Compuestos de Efecto Invernadero (INEGYCEI) 1990-2019\n",
    "* Inventario Nacional de Emisiones de Gases y Compuestos de Efecto Invernadero INEGYCEI 2020-2021\n",
    "\n",
    "Ambos archivos de Excel tienen formatos que generan conflictos al momento de importarlos por lo que se usó la pestaña de *Automatización* y la función de *Grabar acciones* de Excel para generar un script para copiar solo los datos de las hojas a hojas de trabajo nuevas:\n",
    "\n",
    "``````\n",
    "function main(workbook: ExcelScript.Workbook) {\n",
    "\t// Add a new worksheet\n",
    "\tlet hoja3 = workbook.addWorksheet();\n",
    "\tlet selectedSheet = workbook.getActiveWorksheet();\n",
    "\t// Paste to range A1 on hoja3 from range A2:AF190 on selectedSheet\n",
    "\thoja3.getRange(\"A1\").copyFrom(selectedSheet.getRange(\"A2:AF190\"), ExcelScript.RangeCopyType.values, false, false);\n",
    "\t// Delete range 1:1 on hoja3\n",
    "\thoja3.getRange(\"1:1\").delete(ExcelScript.DeleteShiftDirection.up);\n",
    "}\n",
    "``````\n",
    "Una vez generadas las nuevas hojas de datos se les cambia el nombre y se unen todas en un solo archivo al que se le llamó ***solo_valores_1990_2021***."
   ]
  },
  {
   "cell_type": "code",
   "execution_count": 2,
   "metadata": {},
   "outputs": [],
   "source": [
    "import pandas as pd"
   ]
  },
  {
   "cell_type": "markdown",
   "metadata": {},
   "source": [
    "Leer el archivo y guardar las diferentes hojas en un dataframe distinto"
   ]
  },
  {
   "cell_type": "code",
   "execution_count": 28,
   "metadata": {},
   "outputs": [],
   "source": [
    "archivo = 'C:/Users/patty/Documents/Maestria Base de Datos/Aprendizaje_Automatico_priv/solo_valores_1990_2021.xlsx'\n",
    "\n",
    "df = {}\n",
    "for i in range(1990,2022):\n",
    "    j = str(i)+'.2'\n",
    "    df[i] = pd.read_excel(archivo, sheet_name= j)"
   ]
  },
  {
   "cell_type": "code",
   "execution_count": null,
   "metadata": {},
   "outputs": [],
   "source": []
  }
 ],
 "metadata": {
  "kernelspec": {
   "display_name": "Python 3",
   "language": "python",
   "name": "python3"
  },
  "language_info": {
   "codemirror_mode": {
    "name": "ipython",
    "version": 3
   },
   "file_extension": ".py",
   "mimetype": "text/x-python",
   "name": "python",
   "nbconvert_exporter": "python",
   "pygments_lexer": "ipython3",
   "version": "3.10.12"
  },
  "orig_nbformat": 4
 },
 "nbformat": 4,
 "nbformat_minor": 2
}
