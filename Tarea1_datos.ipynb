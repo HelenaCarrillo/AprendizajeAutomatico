{
  "nbformat": 4,
  "nbformat_minor": 0,
  "metadata": {
    "colab": {
      "provenance": [],
      "authorship_tag": "ABX9TyM8pp2nExaMLG5AW/ZtHZki",
      "include_colab_link": true
    },
    "kernelspec": {
      "name": "python3",
      "display_name": "Python 3"
    },
    "language_info": {
      "name": "python"
    }
  },
  "cells": [
    {
      "cell_type": "markdown",
      "metadata": {
        "id": "view-in-github",
        "colab_type": "text"
      },
      "source": [
        "<a href=\"https://colab.research.google.com/github/HelenaCarrillo/AprendizajeAutomatico/blob/main/Tarea1_datos.ipynb\" target=\"_parent\"><img src=\"https://colab.research.google.com/assets/colab-badge.svg\" alt=\"Open In Colab\"/></a>"
      ]
    },
    {
      "cell_type": "markdown",
      "source": [
        "# TAREA 1\n",
        "\n",
        "### Conjunto de datos seleccionados"
      ],
      "metadata": {
        "id": "OoVVOwRo61fE"
      }
    },
    {
      "cell_type": "markdown",
      "source": [
        "Para esta materia se trabajará con los datos correspondientes al Inventario Nacional de Emisiones de Gases y Compuestos de Efecto Invernadero del INECC que se puede encontrar en la siguiente liga: https://datos.gob.mx/busca/dataset/inventario-nacional-de-emisiones-de-gases-y-compuestos-de-efecto-invernadero-inegycei."
      ],
      "metadata": {
        "id": "HWeVZWVD6_JW"
      }
    },
    {
      "cell_type": "markdown",
      "source": [
        "Los datos consisten en las emisiones anuales totales, y desglosadas por industria, de los diferentes gases de efecto invernadero para los años de 1990 a 2021."
      ],
      "metadata": {
        "id": "v5tos29EsEIk"
      }
    },
    {
      "cell_type": "markdown",
      "source": [
        "Se eligieron estos datos ya que se conoce que los gases de efecto invernadero están directamente relacionados con el calentamiento global y este a su vez con el cambio climático. Este tema ha cobrado relevancia en los último años con el rápido aumento de la temperatura media global, los intentos fallidos de distintos gobiernos de reducir sus emisiones y la llamada de cientificos alrededor del mundo de tomar medidas urgentes para controlar el cambio climatico."
      ],
      "metadata": {
        "id": "gGKhR63zr3UU"
      }
    },
    {
      "cell_type": "markdown",
      "source": [
        "Los análisis que se buscará hacer a lo largo del curso son:\n",
        "* Análisis del aumento de las emisiones de Gases de Efecto Invernadero (GEI) totales a lo largo de los años y prediccion de emisiones futuras.\n",
        "* Análisis y clasificación de la participación de las distintas industrias en las emisiones de GEI así como los cambios que estas han sufrido a través del tiempo.\n",
        "* Análisis comparativo o de cumplimiento de metas de México respecto a tratados globales que tienen como propósito la reducción de los Gases de Efecto Invernadeo tales como el Protocolo de Kyoto y las Metas del Desarrollo Susustentable de la ONU.\n",
        "\n",
        "Otros posibles análisis serían:\n",
        "* Comparativa entre el aumento de las emisiones de Gases de Efecto Invernadero y el aumento de la temperatura promedio a nivel Nacional.\n",
        "* Comparativa entre el aumento de las emisiones de GEI de México vs las emisiones Globales a través de los años y/o por participación de las indutrias.\n",
        "* Comprobar si exite una relación entre el aumento de las emisiones de GEI a nievl nacional y posibles cambios en la frecuencia de siniestros meteorológicos tales como sequías, huracanes, frentes fríos, etc."
      ],
      "metadata": {
        "id": "v2292Sfcr5qt"
      }
    }
  ]
}